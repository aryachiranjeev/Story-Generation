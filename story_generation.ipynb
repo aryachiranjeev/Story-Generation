{
  "nbformat": 4,
  "nbformat_minor": 0,
  "metadata": {
    "colab": {
      "name": "story generation.ipynb",
      "version": "0.3.2",
      "provenance": [],
      "collapsed_sections": []
    },
    "kernelspec": {
      "name": "python3",
      "display_name": "Python 3"
    },
    "accelerator": "GPU"
  },
  "cells": [
    {
      "cell_type": "code",
      "metadata": {
        "id": "XYAHRLWNXAx7",
        "colab_type": "code",
        "colab": {}
      },
      "source": [
        "import tensorflow as tf\n",
        "import numpy as np"
      ],
      "execution_count": 0,
      "outputs": []
    },
    {
      "cell_type": "code",
      "metadata": {
        "id": "USTzO6bDXOiP",
        "colab_type": "code",
        "colab": {}
      },
      "source": [
        "with open(\"anna.txt\") as f:\n",
        "  text=f.read()\n",
        "  \n",
        "vocab=sorted(set(text))\n",
        "vocab_2_int={ch:i for i,ch in enumerate(vocab)}\n",
        "int_2_vocab=dict(enumerate(vocab))\n",
        "with open(\"ann.txt\") as f:\n",
        "  text1=f.read()\n",
        "encoded=np.array([vocab_2_int[ch] for ch in text1],dtype=np.int32)"
      ],
      "execution_count": 0,
      "outputs": []
    },
    {
      "cell_type": "code",
      "metadata": {
        "id": "p2yOIaszYTT0",
        "colab_type": "code",
        "colab": {
          "base_uri": "https://localhost:8080/",
          "height": 34
        },
        "outputId": "7a81939c-042a-4cb2-fafe-74ff71bae475"
      },
      "source": [
        "text[:100]\n"
      ],
      "execution_count": 35,
      "outputs": [
        {
          "output_type": "execute_result",
          "data": {
            "text/plain": [
              "'Chapter 1\\n\\n\\nHappy families are all alike; every unhappy family is unhappy in its own\\nway.\\n\\nEverythin'"
            ]
          },
          "metadata": {
            "tags": []
          },
          "execution_count": 35
        }
      ]
    },
    {
      "cell_type": "code",
      "metadata": {
        "id": "xZeQd-TOY5YR",
        "colab_type": "code",
        "colab": {
          "base_uri": "https://localhost:8080/",
          "height": 139
        },
        "outputId": "9e3c2631-155a-4d46-c367-72b080637fec"
      },
      "source": [
        "encoded[:100]"
      ],
      "execution_count": 36,
      "outputs": [
        {
          "output_type": "execute_result",
          "data": {
            "text/plain": [
              "array([31, 64, 57, 72, 76, 61, 74,  1, 16,  0,  0,  0, 36, 57, 72, 72, 81,\n",
              "        1, 62, 57, 69, 65, 68, 65, 61, 75,  1, 57, 74, 61,  1, 57, 68, 68,\n",
              "        1, 57, 68, 65, 67, 61, 26,  1, 61, 78, 61, 74, 81,  1, 77, 70, 64,\n",
              "       57, 72, 72, 81,  1, 62, 57, 69, 65, 68, 81,  1, 65, 75,  1, 77, 70,\n",
              "       64, 57, 72, 72, 81,  1, 65, 70,  1, 65, 76, 75,  1, 71, 79, 70,  0,\n",
              "       79, 57, 81, 13,  0,  0, 33, 78, 61, 74, 81, 76, 64, 65, 70],\n",
              "      dtype=int32)"
            ]
          },
          "metadata": {
            "tags": []
          },
          "execution_count": 36
        }
      ]
    },
    {
      "cell_type": "code",
      "metadata": {
        "id": "TbMJ_Av_ZG7J",
        "colab_type": "code",
        "colab": {
          "base_uri": "https://localhost:8080/",
          "height": 34
        },
        "outputId": "db199d6e-99b7-4dd7-c539-d5d33b8b2f22"
      },
      "source": [
        "len(vocab)"
      ],
      "execution_count": 37,
      "outputs": [
        {
          "output_type": "execute_result",
          "data": {
            "text/plain": [
              "83"
            ]
          },
          "metadata": {
            "tags": []
          },
          "execution_count": 37
        }
      ]
    },
    {
      "cell_type": "code",
      "metadata": {
        "id": "D3pcmgYRa972",
        "colab_type": "code",
        "colab": {}
      },
      "source": [
        "def get_batches(arr,batch_size,n_steps):\n",
        "  \n",
        "  chars_per_batch=batch_size*n_steps\n",
        "  n_batches=len(arr)//chars_per_batch\n",
        "  \n",
        "  arr=arr[:n_batches*chars_per_batch]\n",
        "  # Reshape into batch_size rows\n",
        "  arr=arr.reshape((batch_size,-1))\n",
        "  \n",
        "  for n in range(0,arr.shape[1],n_steps):\n",
        "    x=arr[:,n:n+n_steps]\n",
        "    \n",
        "    y_temp=arr[:,n+1:n+n_steps+1]\n",
        "    \n",
        "    y=np.zeros(x.shape,dtype=x.dtype)\n",
        "    \n",
        "    y[:,:y_temp.shape[1]]=y_temp\n",
        "    \n",
        "    yield x,y\n",
        "  \n",
        "  "
      ],
      "execution_count": 0,
      "outputs": []
    },
    {
      "cell_type": "code",
      "metadata": {
        "id": "DjEReS-edFSb",
        "colab_type": "code",
        "colab": {}
      },
      "source": [
        "batches=get_batches(encoded,10,50)\n",
        "x,y=next(batches)"
      ],
      "execution_count": 0,
      "outputs": []
    },
    {
      "cell_type": "code",
      "metadata": {
        "id": "lkyUer5GdT2u",
        "colab_type": "code",
        "colab": {
          "base_uri": "https://localhost:8080/",
          "height": 416
        },
        "outputId": "c276603f-4527-47c4-baf7-affd782575ed"
      },
      "source": [
        "print(\"x=\\n\",x[:10,:10])\n",
        "print(\"\\ny=\\n\",y[:10,:10])"
      ],
      "execution_count": 40,
      "outputs": [
        {
          "output_type": "stream",
          "text": [
            "x=\n",
            " [[31 64 57 72 76 61 74  1 16  0]\n",
            " [ 1 57 69  1 70 71 76  1 63 71]\n",
            " [78 65 70 13  0  0  3 53 61 75]\n",
            " [70  1 60 77 74 65 70 63  1 64]\n",
            " [ 1 65 76  1 65 75 11  1 75 65]\n",
            " [ 1 37 76  1 79 57 75  0 71 70]\n",
            " [64 61 70  1 59 71 69 61  1 62]\n",
            " [26  1 58 77 76  1 70 71 79  1]\n",
            " [76  1 65 75 70  7 76 13  1 48]\n",
            " [ 1 75 57 65 60  1 76 71  1 64]]\n",
            "\n",
            "y=\n",
            " [[64 57 72 76 61 74  1 16  0  0]\n",
            " [57 69  1 70 71 76  1 63 71 65]\n",
            " [65 70 13  0  0  3 53 61 75 11]\n",
            " [ 1 60 77 74 65 70 63  1 64 65]\n",
            " [65 76  1 65 75 11  1 75 65 74]\n",
            " [37 76  1 79 57 75  0 71 70 68]\n",
            " [61 70  1 59 71 69 61  1 62 71]\n",
            " [ 1 58 77 76  1 70 71 79  1 75]\n",
            " [ 1 65 75 70  7 76 13  1 48 64]\n",
            " [75 57 65 60  1 76 71  1 64 61]]\n"
          ],
          "name": "stdout"
        }
      ]
    },
    {
      "cell_type": "code",
      "metadata": {
        "id": "o7pBlLFBdo8R",
        "colab_type": "code",
        "colab": {}
      },
      "source": [
        "def build_inputs(batch_size,num_steps):\n",
        "  inputs=tf.placeholder(tf.int32,[batch_size,num_steps],name=\"inputs\")\n",
        "  target=tf.placeholder(tf.int32,[batch_size,num_steps],name=\"targets\")\n",
        "  \n",
        "  keep_prob=tf.placeholder(tf.float32,name=\"keep_prob\")\n",
        "  \n",
        "  return inputs,target,keep_prob"
      ],
      "execution_count": 0,
      "outputs": []
    },
    {
      "cell_type": "code",
      "metadata": {
        "id": "JQ8JQ_UserHU",
        "colab_type": "code",
        "colab": {}
      },
      "source": [
        "def build_lstm(lstm_size,num_layers,batch_size,keep_prob):\n",
        "  \n",
        "  def build_cell(lstm_size,keep_prob):\n",
        "    lstm=tf.contrib.rnn.BasicLSTMCell(lstm_size)\n",
        "    drop=tf.contrib.rnn.DropoutWrapper(lstm,output_keep_prob=keep_prob)\n",
        "    \n",
        "    return drop\n",
        "  #stack multiple lstm layers\n",
        "  cell=tf.contrib.rnn.MultiRNNCell([build_cell(lstm_size,keep_prob) for _ in range(num_layers)])\n",
        "  \n",
        "  initial_state=cell.zero_state(batch_size,tf.float32)\n",
        "  \n",
        "  return cell,initial_state\n",
        "  \n",
        "  "
      ],
      "execution_count": 0,
      "outputs": []
    },
    {
      "cell_type": "code",
      "metadata": {
        "id": "4Wo9qFSlgWiV",
        "colab_type": "code",
        "colab": {}
      },
      "source": [
        "def build_output(lstm_output,in_size,out_size):\n",
        "#   in_size: Size of the input tensor, for example, size of the LSTM cells\n",
        "#   out_size: Size of this softmax layer\n",
        "  \n",
        "  seq_output=tf.concat(lstm_output,axis=1)\n",
        "#   x :input tensor\n",
        "  x=tf.reshape(seq_output,[-1,in_size])\n",
        "  \n",
        "  with tf.variable_scope('softmax'):\n",
        "    weight=tf.Variable(tf.truncated_normal((in_size,out_size),stddev=0.1))\n",
        "    bias=tf.Variable(tf.zeros(out_size))\n",
        "    \n",
        "    \n",
        "  logits=tf.matmul(x,weight)+bias\n",
        "  \n",
        "  out=tf.nn.softmax(logits,name=\"prediction\")\n",
        "  \n",
        "  return out,logits"
      ],
      "execution_count": 0,
      "outputs": []
    },
    {
      "cell_type": "code",
      "metadata": {
        "id": "OeKXk7mmiB4w",
        "colab_type": "code",
        "colab": {}
      },
      "source": [
        "def build_loss(logits,targets,lstm_size,num_characters):\n",
        "  \n",
        "  y_one_hot=tf.one_hot(targets,num_characters)\n",
        "  y_reshaped=tf.reshape(y_one_hot,logits.get_shape())\n",
        "  \n",
        "  loss=tf.nn.softmax_cross_entropy_with_logits(logits=logits,labels=y_reshaped)\n",
        "  loss=tf.reduce_mean(loss)\n",
        "  \n",
        "  return loss"
      ],
      "execution_count": 0,
      "outputs": []
    },
    {
      "cell_type": "code",
      "metadata": {
        "id": "VeteTOflitWo",
        "colab_type": "code",
        "colab": {}
      },
      "source": [
        "def build_optimizer(loss,learning_rate,grad_clip):\n",
        "  tvars=tf.trainable_variables()\n",
        "  grads,_=tf.clip_by_global_norm(tf.gradients(loss,tvars),grad_clip)\n",
        "  train_optimizer=tf.train.AdamOptimizer(learning_rate)\n",
        "  optimizer=train_optimizer.apply_gradients(zip(grads,tvars))\n",
        "  \n",
        "  return optimizer"
      ],
      "execution_count": 0,
      "outputs": []
    },
    {
      "cell_type": "code",
      "metadata": {
        "id": "HjVJ0SACjwbV",
        "colab_type": "code",
        "colab": {}
      },
      "source": [
        "class charRNN:\n",
        "  def __init__(self,num_characters,batch_size=64,num_steps=50,lstm_size=128,num_layers=2,learning_rate=0.01,grad_clip=5,sampling=False):\n",
        "    \n",
        "    if sampling==True:\n",
        "      batch_size,num_steps=1,1\n",
        "      \n",
        "    else:\n",
        "      batch_size,num_steps=batch_size,num_steps\n",
        "      \n",
        "    tf.reset_default_graph()\n",
        "    \n",
        "    self.inputs,self.targets,self.keep_prob=build_inputs(batch_size,num_steps)\n",
        "    \n",
        "    cell,self.initial_state=build_lstm(lstm_size,num_layers,batch_size,self.keep_prob)\n",
        "    \n",
        "    #     Run the data through the RNN layers\n",
        "    #     First, one-hot encode the input tokens\n",
        "    \n",
        "    x_one_hot=tf.one_hot(self.inputs,num_characters)\n",
        "    \n",
        "    # Run each sequence step through the RNN and collect the outputs\n",
        "    \n",
        "    outputs,state=tf.nn.dynamic_rnn(cell,x_one_hot,initial_state=self.initial_state)  \n",
        "    self.final_state=state\n",
        "    \n",
        "    self.prediction,self.logits=build_output(outputs,lstm_size,num_characters)\n",
        "    \n",
        "    self.loss=build_loss(self.logits,self.targets,lstm_size,num_characters)\n",
        "    \n",
        "    self.optimizer=build_optimizer(self.loss,learning_rate,grad_clip)\n",
        "    \n",
        "    \n",
        "    \n",
        "    \n",
        "    \n",
        "    "
      ],
      "execution_count": 0,
      "outputs": []
    },
    {
      "cell_type": "code",
      "metadata": {
        "id": "Ypn_C9UVneW7",
        "colab_type": "code",
        "colab": {}
      },
      "source": [
        "batch_size=100\n",
        "num_steps=100\n",
        "num_layers=2\n",
        "lstm_size=512\n",
        "keep_prob=0.5\n",
        "learning_rate=0.001\n",
        "epochs=10"
      ],
      "execution_count": 0,
      "outputs": []
    },
    {
      "cell_type": "code",
      "metadata": {
        "id": "bCY50TSSntcc",
        "colab_type": "code",
        "colab": {
          "base_uri": "https://localhost:8080/",
          "height": 694
        },
        "outputId": "8c090e50-14d0-4b00-f2b8-de9caacfb262"
      },
      "source": [
        "\n",
        "model = charRNN(len(vocab), batch_size=batch_size, num_steps=num_steps,\n",
        "                lstm_size=lstm_size, num_layers=num_layers, \n",
        "                learning_rate=learning_rate)\n",
        "\n",
        "saver=tf.train.Saver(max_to_keep=100)\n",
        "\n",
        "with tf.Session() as sess:\n",
        "  sess.run(tf.global_variables_initializer())\n",
        "  count=0\n",
        "  for e in range(epochs):\n",
        "    new_state=sess.run(model.initial_state)\n",
        "    loss=0\n",
        "    \n",
        "    for x,y in get_batches(encoded,batch_size,num_steps):\n",
        "      count=count+1\n",
        "      feed_dict={model.inputs:x,model.targets:y,model.keep_prob:keep_prob,model.initial_state:new_state}\n",
        "      \n",
        "      batch_loss,new_state,_ = sess.run([model.loss,model.final_state,model.optimizer],feed_dict=feed_dict)\n",
        "      \n",
        "      if(count%50==0):\n",
        "        print(\"Epoch:{0} , loss:{1}\".format(e+1,batch_loss))\n",
        "        \n",
        "      if(count%200==0):\n",
        "        saver.save(sess,\"checkpoints/i{}_l{}.ckpt\".format(count,lstm_size))\n",
        "        \n",
        "  saver.save(sess,\"checkpoints1/i{}_l{}.ckpt\".format(count,lstm_size))\n",
        "      \n",
        "  "
      ],
      "execution_count": 48,
      "outputs": [
        {
          "output_type": "stream",
          "text": [
            "Epoch:1 , loss:3.1710784435272217\n",
            "Epoch:1 , loss:3.095881938934326\n",
            "Epoch:1 , loss:2.7897090911865234\n",
            "Epoch:2 , loss:2.4521093368530273\n",
            "Epoch:2 , loss:2.3592545986175537\n",
            "Epoch:2 , loss:2.237067461013794\n",
            "Epoch:2 , loss:2.190321922302246\n",
            "Epoch:3 , loss:2.059110403060913\n",
            "Epoch:3 , loss:1.9929144382476807\n",
            "Epoch:3 , loss:1.9267240762710571\n",
            "Epoch:3 , loss:1.907214641571045\n",
            "Epoch:4 , loss:1.8006675243377686\n",
            "Epoch:4 , loss:1.8037002086639404\n",
            "Epoch:4 , loss:1.7658149003982544\n",
            "Epoch:4 , loss:1.7339824438095093\n",
            "Epoch:5 , loss:1.6924253702163696\n",
            "Epoch:5 , loss:1.648697853088379\n",
            "Epoch:5 , loss:1.6302270889282227\n",
            "Epoch:5 , loss:1.611778736114502\n",
            "Epoch:6 , loss:1.5825355052947998\n",
            "Epoch:6 , loss:1.6020562648773193\n",
            "Epoch:6 , loss:1.5482124090194702\n",
            "Epoch:6 , loss:1.5497808456420898\n",
            "Epoch:7 , loss:1.5092449188232422\n",
            "Epoch:7 , loss:1.54668390750885\n",
            "Epoch:7 , loss:1.4713447093963623\n",
            "Epoch:7 , loss:1.4501125812530518\n",
            "Epoch:8 , loss:1.472472906112671\n",
            "Epoch:8 , loss:1.4405592679977417\n",
            "Epoch:8 , loss:1.3889554738998413\n",
            "Epoch:8 , loss:1.401134967803955\n",
            "Epoch:9 , loss:1.3726965188980103\n",
            "Epoch:9 , loss:1.3989945650100708\n",
            "Epoch:9 , loss:1.325363278388977\n",
            "Epoch:9 , loss:1.3524519205093384\n",
            "Epoch:10 , loss:1.3831604719161987\n",
            "Epoch:10 , loss:1.322705864906311\n",
            "Epoch:10 , loss:1.3368966579437256\n",
            "Epoch:10 , loss:1.3986694812774658\n"
          ],
          "name": "stdout"
        }
      ]
    },
    {
      "cell_type": "code",
      "metadata": {
        "id": "JkcWiCccrqmA",
        "colab_type": "code",
        "colab": {
          "base_uri": "https://localhost:8080/",
          "height": 208
        },
        "outputId": "d06ce8be-b91f-4a84-86bc-aeef1ee5b56e"
      },
      "source": [
        "tf.train.get_checkpoint_state('checkpoints1')"
      ],
      "execution_count": 49,
      "outputs": [
        {
          "output_type": "execute_result",
          "data": {
            "text/plain": [
              "model_checkpoint_path: \"checkpoints1/i1980_l512.ckpt\"\n",
              "all_model_checkpoint_paths: \"checkpoints1/../checkpoints/i200_l512.ckpt\"\n",
              "all_model_checkpoint_paths: \"checkpoints1/../checkpoints/i400_l512.ckpt\"\n",
              "all_model_checkpoint_paths: \"checkpoints1/../checkpoints/i600_l512.ckpt\"\n",
              "all_model_checkpoint_paths: \"checkpoints1/../checkpoints/i800_l512.ckpt\"\n",
              "all_model_checkpoint_paths: \"checkpoints1/../checkpoints/i1000_l512.ckpt\"\n",
              "all_model_checkpoint_paths: \"checkpoints1/../checkpoints/i1200_l512.ckpt\"\n",
              "all_model_checkpoint_paths: \"checkpoints1/../checkpoints/i1400_l512.ckpt\"\n",
              "all_model_checkpoint_paths: \"checkpoints1/../checkpoints/i1600_l512.ckpt\"\n",
              "all_model_checkpoint_paths: \"checkpoints1/../checkpoints/i1800_l512.ckpt\"\n",
              "all_model_checkpoint_paths: \"checkpoints1/i1980_l512.ckpt\""
            ]
          },
          "metadata": {
            "tags": []
          },
          "execution_count": 49
        }
      ]
    },
    {
      "cell_type": "code",
      "metadata": {
        "id": "0qn_4aGbuBWz",
        "colab_type": "code",
        "colab": {}
      },
      "source": [
        "def pick_top_n(preds,vocab_size,top_n=5):\n",
        "  p=np.squeeze(preds)\n",
        "  p[np.argsort(p)[:-top_n]]=0\n",
        "  p=p/np.sum(p)\n",
        "  c=np.random.choice(vocab_size,1,p=p)[0]\n",
        "  \n",
        "  return c"
      ],
      "execution_count": 0,
      "outputs": []
    },
    {
      "cell_type": "code",
      "metadata": {
        "id": "woJx6nQ0vHGf",
        "colab_type": "code",
        "colab": {}
      },
      "source": [
        "def sample(checkpoint,n_samples,lstm_size,vocab_size,prime='the '):\n",
        "  \n",
        "  samples=[ch for ch in prime]\n",
        "  model=charRNN(len(vocab),lstm_size=lstm_size,sampling=True)\n",
        "  saver=tf.train.Saver()\n",
        "  \n",
        "  with tf.Session() as sess:\n",
        "    saver.restore(sess,checkpoint)\n",
        "    new_state=sess.run(model.initial_state)\n",
        "    \n",
        "    for ch in prime:\n",
        "      x=np.zeros((1,1))\n",
        "      x[0,0]=vocab_2_int[ch]\n",
        "      feed_dict={model.inputs:x , model.keep_prob:1.0 ,model.initial_state: new_state}\n",
        "      preds,new_state=sess.run([model.prediction,model.final_state],feed_dict=feed_dict)\n",
        "\n",
        "    ch=pick_top_n(preds,len(vocab))\n",
        "    samples.append(int_2_vocab[ch])\n",
        "    \n",
        "    for i in range(n_samples):\n",
        "      x[0,0]=ch\n",
        "          \n",
        "      feed_dict={model.inputs:x , model.keep_prob:1.0 ,model.initial_state:new_state}\n",
        "    \n",
        "      preds,new_state=sess.run([model.prediction,model.final_state],feed_dict=feed_dict)\n",
        "      \n",
        "      ch=pick_top_n(preds,len(vocab))\n",
        "      samples.append(int_2_vocab[ch])\n",
        "      \n",
        "  return ''.join(samples) "
      ],
      "execution_count": 0,
      "outputs": []
    },
    {
      "cell_type": "code",
      "metadata": {
        "id": "rJZfBauryRxl",
        "colab_type": "code",
        "colab": {
          "base_uri": "https://localhost:8080/",
          "height": 34
        },
        "outputId": "c0c0d275-5609-4a3b-b81c-dc4172c8eecf"
      },
      "source": [
        "tf.train.latest_checkpoint('checkpoints1')"
      ],
      "execution_count": 52,
      "outputs": [
        {
          "output_type": "execute_result",
          "data": {
            "text/plain": [
              "'checkpoints1/i1980_l512.ckpt'"
            ]
          },
          "metadata": {
            "tags": []
          },
          "execution_count": 52
        }
      ]
    },
    {
      "cell_type": "code",
      "metadata": {
        "id": "EuNrXzpSyh4j",
        "colab_type": "code",
        "colab": {
          "base_uri": "https://localhost:8080/",
          "height": 764
        },
        "outputId": "a6f987c0-8148-425d-f872-a26a93c172fa"
      },
      "source": [
        "checkpoint = tf.train.latest_checkpoint('checkpoints1')\n",
        "samp = sample(checkpoint, 2000, lstm_size, len(vocab), prime=\"aunty ji dance \")\n",
        "print(samp)"
      ],
      "execution_count": 60,
      "outputs": [
        {
          "output_type": "stream",
          "text": [
            "aunty ji dance of\n",
            "their sendency of the princess with the bith oppeass of his had\n",
            "and heart to her share about the something.\n",
            "\n",
            "\"What was so yut on the discussion of me at a moming, there'voute the\n",
            "distrating one who were not tendenners to say anything in she should\n",
            "not have taken for you to saying while the sectaterest and so\n",
            "an excordent one was at him, and we are a grander so to do with\n",
            "me. That, I don't see her. There will been taken this sunsericalien to\n",
            "arruse to a sparetious at him, and I was a smule of the marming to\n",
            "be a childrong. They had to the bord was strects of mistaken,\n",
            "and he had all all things the charemunass, but so they had been always\n",
            "told them.\n",
            "\n",
            "\n",
            "Consters out of which, husband all has been seeing her. And the\n",
            "praces of the place as she was the solition of his soul in a stort\n",
            "to see all. The carriage and something was in the same.\n",
            "\n",
            "The share one of the propiced said, and then they were set in her\n",
            "exacker. \"In there's a girl when the morning is at it is attacking the beas\n",
            "of his wholenes, and I don't say that he should never say to the does,\n",
            "and they say, and to say so that I have a meeting to say sometime.\"\n",
            "\n",
            "The mother sat so that it was a smarate triad, he show it was so its and\n",
            "straight, and thinking of the condicion, was interrupted her trutting\n",
            "his brother.\n",
            "\n",
            "They should have been sont for the propace.\n",
            "\n",
            "\"What so you can the pacticular and mind of this was in the same imant\n",
            "tried,\" he said.\n",
            "\n",
            "The placation, said to the mad as they said it would be seemed to\n",
            "see a she could be too, and was still and heard.\n",
            "\n",
            "\"To my concinence of the cares of sen on any concellightons to me\n",
            "surposition. And that he's not taken. And you see it to me, he sat\n",
            "so meant that in the saying about the must of his face in the\n",
            "change of the cources. In the corned of the pitter of the same to\n",
            "staid in her mother. And I would be to must a called be such a proffice\n",
            "of the morsen,\" she said, and with answer to the pees to her, and\n",
            "then that in a subject of special continutation in the clearness\n"
          ],
          "name": "stdout"
        }
      ]
    },
    {
      "cell_type": "code",
      "metadata": {
        "id": "XA7QLbZv91Fd",
        "colab_type": "code",
        "colab": {}
      },
      "source": [
        ""
      ],
      "execution_count": 0,
      "outputs": []
    }
  ]
}